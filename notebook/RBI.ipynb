{
 "cells": [
  {
   "cell_type": "code",
   "execution_count": 29,
   "metadata": {},
   "outputs": [],
   "source": [
    "from collections import namedtuple\n",
    "from random import randint\n",
    "import math\n",
    "from pprint import pprint"
   ]
  },
  {
   "cell_type": "code",
   "execution_count": 24,
   "metadata": {},
   "outputs": [],
   "source": [
    "SubComponent = namedtuple('SubComponent', [\n",
    "    'ident',\n",
    "    'failure_modes',\n",
    "])"
   ]
  },
  {
   "cell_type": "code",
   "execution_count": 25,
   "metadata": {},
   "outputs": [],
   "source": [
    "FailureMode = namedtuple('FailureMode', [\n",
    "    'description',\n",
    "    'cost',\n",
    "    'mttf',\n",
    "])"
   ]
  },
  {
   "cell_type": "code",
   "execution_count": 26,
   "metadata": {},
   "outputs": [],
   "source": [
    "subcomponents = []"
   ]
  },
  {
   "cell_type": "code",
   "execution_count": 50,
   "metadata": {},
   "outputs": [],
   "source": [
    "subcomponents = []\n",
    "for i in range(10):\n",
    "    failure_modes = []\n",
    "    for j in range(5):\n",
    "        failure_modes.append(FailureMode(f'failure_mode{j}', randint(1000,2000), randint(0,100)))\n",
    "    subcomponents.append(SubComponent(f'component{i}', failure_modes))"
   ]
  },
  {
   "cell_type": "code",
   "execution_count": 51,
   "metadata": {},
   "outputs": [
    {
     "name": "stdout",
     "output_type": "stream",
     "text": [
      "[SubComponent(ident='component0', failure_modes=[FailureMode(description='failure_mode0', cost=1675, mttf=45), FailureMode(description='failure_mode1', cost=1211, mttf=96), FailureMode(description='failure_mode2', cost=1704, mttf=82), FailureMode(description='failure_mode3', cost=1983, mttf=61), FailureMode(description='failure_mode4', cost=1182, mttf=70)]),\n",
      " SubComponent(ident='component1', failure_modes=[FailureMode(description='failure_mode0', cost=1561, mttf=47), FailureMode(description='failure_mode1', cost=1522, mttf=6), FailureMode(description='failure_mode2', cost=1004, mttf=95), FailureMode(description='failure_mode3', cost=1385, mttf=59), FailureMode(description='failure_mode4', cost=1488, mttf=45)]),\n",
      " SubComponent(ident='component2', failure_modes=[FailureMode(description='failure_mode0', cost=1568, mttf=56), FailureMode(description='failure_mode1', cost=1262, mttf=13), FailureMode(description='failure_mode2', cost=1413, mttf=42), FailureMode(description='failure_mode3', cost=1434, mttf=18), FailureMode(description='failure_mode4', cost=1070, mttf=73)]),\n",
      " SubComponent(ident='component3', failure_modes=[FailureMode(description='failure_mode0', cost=1295, mttf=16), FailureMode(description='failure_mode1', cost=1269, mttf=97), FailureMode(description='failure_mode2', cost=1686, mttf=66), FailureMode(description='failure_mode3', cost=1229, mttf=22), FailureMode(description='failure_mode4', cost=1877, mttf=65)]),\n",
      " SubComponent(ident='component4', failure_modes=[FailureMode(description='failure_mode0', cost=1909, mttf=93), FailureMode(description='failure_mode1', cost=1335, mttf=16), FailureMode(description='failure_mode2', cost=1570, mttf=12), FailureMode(description='failure_mode3', cost=1652, mttf=78), FailureMode(description='failure_mode4', cost=1921, mttf=88)]),\n",
      " SubComponent(ident='component5', failure_modes=[FailureMode(description='failure_mode0', cost=1981, mttf=23), FailureMode(description='failure_mode1', cost=1553, mttf=93), FailureMode(description='failure_mode2', cost=1945, mttf=0), FailureMode(description='failure_mode3', cost=1725, mttf=96), FailureMode(description='failure_mode4', cost=1056, mttf=92)]),\n",
      " SubComponent(ident='component6', failure_modes=[FailureMode(description='failure_mode0', cost=1035, mttf=3), FailureMode(description='failure_mode1', cost=1997, mttf=83), FailureMode(description='failure_mode2', cost=1066, mttf=66), FailureMode(description='failure_mode3', cost=1255, mttf=61), FailureMode(description='failure_mode4', cost=1548, mttf=93)]),\n",
      " SubComponent(ident='component7', failure_modes=[FailureMode(description='failure_mode0', cost=1927, mttf=41), FailureMode(description='failure_mode1', cost=1972, mttf=12), FailureMode(description='failure_mode2', cost=1015, mttf=31), FailureMode(description='failure_mode3', cost=1510, mttf=66), FailureMode(description='failure_mode4', cost=1030, mttf=27)]),\n",
      " SubComponent(ident='component8', failure_modes=[FailureMode(description='failure_mode0', cost=1735, mttf=100), FailureMode(description='failure_mode1', cost=1754, mttf=64), FailureMode(description='failure_mode2', cost=1204, mttf=46), FailureMode(description='failure_mode3', cost=1376, mttf=99), FailureMode(description='failure_mode4', cost=1061, mttf=85)]),\n",
      " SubComponent(ident='component9', failure_modes=[FailureMode(description='failure_mode0', cost=1783, mttf=99), FailureMode(description='failure_mode1', cost=1833, mttf=36), FailureMode(description='failure_mode2', cost=1386, mttf=76), FailureMode(description='failure_mode3', cost=1854, mttf=46), FailureMode(description='failure_mode4', cost=1008, mttf=34)])]\n"
     ]
    }
   ],
   "source": [
    "pprint(subcomponents)"
   ]
  },
  {
   "cell_type": "code",
   "execution_count": 70,
   "metadata": {},
   "outputs": [],
   "source": [
    "def annual_prob_of_failure(mttf):\n",
    "    try:\n",
    "        failure_rate = 1/mttf\n",
    "        t = 1\n",
    "        return 1 - math.exp(-failure_rate*t)\n",
    "    except ZeroDivisionError:\n",
    "        raise\n",
    "#         return 'mttf must be > 0'"
   ]
  },
  {
   "cell_type": "code",
   "execution_count": 71,
   "metadata": {},
   "outputs": [
    {
     "ename": "ZeroDivisionError",
     "evalue": "division by zero",
     "output_type": "error",
     "traceback": [
      "\u001b[0;31m---------------------------------------------------------------------------\u001b[0m",
      "\u001b[0;31mZeroDivisionError\u001b[0m                         Traceback (most recent call last)",
      "\u001b[0;32m<ipython-input-71-fa1358af4ec2>\u001b[0m in \u001b[0;36m<module>\u001b[0;34m()\u001b[0m\n\u001b[1;32m      2\u001b[0m     \u001b[0mfailure_rate\u001b[0m \u001b[0;34m=\u001b[0m \u001b[0;36m0\u001b[0m\u001b[0;34m\u001b[0m\u001b[0m\n\u001b[1;32m      3\u001b[0m     \u001b[0;32mfor\u001b[0m \u001b[0mfm\u001b[0m \u001b[0;32min\u001b[0m \u001b[0msubcomponent\u001b[0m\u001b[0;34m.\u001b[0m\u001b[0mfailure_modes\u001b[0m\u001b[0;34m:\u001b[0m\u001b[0;34m\u001b[0m\u001b[0m\n\u001b[0;32m----> 4\u001b[0;31m         \u001b[0mfailure_rate\u001b[0m \u001b[0;34m+=\u001b[0m \u001b[0mannual_prob_of_failure\u001b[0m\u001b[0;34m(\u001b[0m\u001b[0mfm\u001b[0m\u001b[0;34m.\u001b[0m\u001b[0mmttf\u001b[0m\u001b[0;34m)\u001b[0m\u001b[0;34m\u001b[0m\u001b[0m\n\u001b[0m\u001b[1;32m      5\u001b[0m \u001b[0;31m#         failure_rate = sum([annual_prob_of_failure(fm.mttf) for fm in subcomponent.failure_modes])\u001b[0m\u001b[0;34m\u001b[0m\u001b[0;34m\u001b[0m\u001b[0m\n",
      "\u001b[0;32m<ipython-input-70-d8d584b95b3f>\u001b[0m in \u001b[0;36mannual_prob_of_failure\u001b[0;34m(mttf)\u001b[0m\n\u001b[1;32m      1\u001b[0m \u001b[0;32mdef\u001b[0m \u001b[0mannual_prob_of_failure\u001b[0m\u001b[0;34m(\u001b[0m\u001b[0mmttf\u001b[0m\u001b[0;34m)\u001b[0m\u001b[0;34m:\u001b[0m\u001b[0;34m\u001b[0m\u001b[0m\n\u001b[1;32m      2\u001b[0m     \u001b[0;32mtry\u001b[0m\u001b[0;34m:\u001b[0m\u001b[0;34m\u001b[0m\u001b[0m\n\u001b[0;32m----> 3\u001b[0;31m         \u001b[0mfailure_rate\u001b[0m \u001b[0;34m=\u001b[0m \u001b[0;36m1\u001b[0m\u001b[0;34m/\u001b[0m\u001b[0mmttf\u001b[0m\u001b[0;34m\u001b[0m\u001b[0m\n\u001b[0m\u001b[1;32m      4\u001b[0m         \u001b[0mt\u001b[0m \u001b[0;34m=\u001b[0m \u001b[0;36m1\u001b[0m\u001b[0;34m\u001b[0m\u001b[0m\n\u001b[1;32m      5\u001b[0m         \u001b[0;32mreturn\u001b[0m \u001b[0;36m1\u001b[0m \u001b[0;34m-\u001b[0m \u001b[0mmath\u001b[0m\u001b[0;34m.\u001b[0m\u001b[0mexp\u001b[0m\u001b[0;34m(\u001b[0m\u001b[0;34m-\u001b[0m\u001b[0mfailure_rate\u001b[0m\u001b[0;34m*\u001b[0m\u001b[0mt\u001b[0m\u001b[0;34m)\u001b[0m\u001b[0;34m\u001b[0m\u001b[0m\n",
      "\u001b[0;31mZeroDivisionError\u001b[0m: division by zero"
     ]
    }
   ],
   "source": [
    "for subcomponent in subcomponents:\n",
    "    failure_rate = 0\n",
    "    for fm in subcomponent.failure_modes:\n",
    "        failure_rate += annual_prob_of_failure(fm.mttf)\n",
    "#         failure_rate = sum([annual_prob_of_failure(fm.mttf) for fm in subcomponent.failure_modes])"
   ]
  },
  {
   "cell_type": "code",
   "execution_count": 72,
   "metadata": {},
   "outputs": [
    {
     "data": {
      "text/plain": [
       "0.05324171660123689"
      ]
     },
     "execution_count": 72,
     "metadata": {},
     "output_type": "execute_result"
    }
   ],
   "source": [
    "failure_rate"
   ]
  },
  {
   "cell_type": "code",
   "execution_count": 78,
   "metadata": {},
   "outputs": [
    {
     "data": {
      "text/plain": [
       "6"
      ]
     },
     "execution_count": 78,
     "metadata": {},
     "output_type": "execute_result"
    }
   ],
   "source": [
    "class FMECA:    \n",
    "    def run(self, components):\n",
    "        self.risk = sum(components)\n",
    "\n",
    "class Component:\n",
    "    def __init__(self):\n",
    "        self.subcomponents = [1, 2, 3]\n",
    "        self.fmeca = FMECA()\n",
    "        self.fmeca.run(self.subcomponents)\n",
    "\n",
    "c = Component()\n",
    "c.fmeca.risk"
   ]
  },
  {
   "cell_type": "code",
   "execution_count": 95,
   "metadata": {},
   "outputs": [],
   "source": [
    "class Component:\n",
    "    def __init__(self):\n",
    "        self.subcomponents = [1, 2, 3]\n",
    "        self.risk = None\n",
    "\n",
    "    def run_fmeca(self):\n",
    "        self.risk = sum(self.subcomponents)\n",
    "        \n",
    "\n",
    "c = Component()\n",
    "c.risk"
   ]
  },
  {
   "cell_type": "code",
   "execution_count": 96,
   "metadata": {},
   "outputs": [
    {
     "ename": "AttributeError",
     "evalue": "'Component' object has no attribute 'fmeca'",
     "output_type": "error",
     "traceback": [
      "\u001b[0;31m---------------------------------------------------------------------------\u001b[0m",
      "\u001b[0;31mAttributeError\u001b[0m                            Traceback (most recent call last)",
      "\u001b[0;32m<ipython-input-96-235a40cbf9a3>\u001b[0m in \u001b[0;36m<module>\u001b[0;34m()\u001b[0m\n\u001b[1;32m      1\u001b[0m \u001b[0mc\u001b[0m\u001b[0;34m.\u001b[0m\u001b[0mrun_fmeca\u001b[0m\u001b[0;34m(\u001b[0m\u001b[0;34m)\u001b[0m\u001b[0;34m\u001b[0m\u001b[0m\n\u001b[0;32m----> 2\u001b[0;31m \u001b[0mc\u001b[0m\u001b[0;34m.\u001b[0m\u001b[0mfmeca\u001b[0m\u001b[0;34m\u001b[0m\u001b[0m\n\u001b[0m",
      "\u001b[0;31mAttributeError\u001b[0m: 'Component' object has no attribute 'fmeca'"
     ]
    }
   ],
   "source": [
    "c.run_fmeca()\n",
    "c.risk"
   ]
  },
  {
   "cell_type": "code",
   "execution_count": 92,
   "metadata": {},
   "outputs": [],
   "source": [
    "class FMECA:    \n",
    "    def __init__(self, subcomponents):\n",
    "        self.risk = sum(subcomponents)\n",
    "\n",
    "class Component:\n",
    "    def __init__(self):\n",
    "        self.subcomponents = [1, 2, 3]\n",
    "        self.fmeca = None\n",
    "\n",
    "    def run_fmeca(self):\n",
    "        self.fmeca = FMECA(self.subcomponents)\n",
    "        \n",
    "\n",
    "c = Component()\n",
    "c.fmeca"
   ]
  },
  {
   "cell_type": "code",
   "execution_count": 94,
   "metadata": {},
   "outputs": [
    {
     "data": {
      "text/plain": [
       "6"
      ]
     },
     "execution_count": 94,
     "metadata": {},
     "output_type": "execute_result"
    }
   ],
   "source": [
    "c.run_fmeca()\n",
    "c.fmeca.risk"
   ]
  },
  {
   "cell_type": "code",
   "execution_count": 108,
   "metadata": {},
   "outputs": [],
   "source": [
    "class Component:\n",
    "    def __init__(self):\n",
    "        self.subcomponents = [1, 2, 3]\n",
    "        self._risk = None\n",
    "\n",
    "    @property\n",
    "    def risk(self):\n",
    "        if self._risk is None:\n",
    "            print('long calculation')\n",
    "            self._risk = sum(self.subcomponents)\n",
    "        return self._risk"
   ]
  },
  {
   "cell_type": "code",
   "execution_count": 109,
   "metadata": {},
   "outputs": [],
   "source": [
    "c = Component()"
   ]
  },
  {
   "cell_type": "code",
   "execution_count": 110,
   "metadata": {},
   "outputs": [
    {
     "name": "stdout",
     "output_type": "stream",
     "text": [
      "long calculation\n"
     ]
    },
    {
     "data": {
      "text/plain": [
       "6"
      ]
     },
     "execution_count": 110,
     "metadata": {},
     "output_type": "execute_result"
    }
   ],
   "source": [
    "c.risk"
   ]
  },
  {
   "cell_type": "code",
   "execution_count": 111,
   "metadata": {},
   "outputs": [
    {
     "data": {
      "text/plain": [
       "6"
      ]
     },
     "execution_count": 111,
     "metadata": {},
     "output_type": "execute_result"
    }
   ],
   "source": [
    "c.risk"
   ]
  },
  {
   "cell_type": "code",
   "execution_count": null,
   "metadata": {},
   "outputs": [],
   "source": []
  }
 ],
 "metadata": {
  "kernelspec": {
   "display_name": "Python 3",
   "language": "python",
   "name": "python3"
  },
  "language_info": {
   "codemirror_mode": {
    "name": "ipython",
    "version": 3
   },
   "file_extension": ".py",
   "mimetype": "text/x-python",
   "name": "python",
   "nbconvert_exporter": "python",
   "pygments_lexer": "ipython3",
   "version": "3.6.3"
  }
 },
 "nbformat": 4,
 "nbformat_minor": 2
}
